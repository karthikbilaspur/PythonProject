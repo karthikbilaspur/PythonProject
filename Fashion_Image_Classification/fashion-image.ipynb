{
 "cells": [
  {
   "cell_type": "code",
   "execution_count": null,
   "id": "8f7fa657",
   "metadata": {},
   "outputs": [],
   "source": [
    "import tensorflow as tf\n",
    "import pandas as pd\n",
    "import numpy as np\n",
    "from google.colab import files\n",
    "import matplotlib.pyplot as plt\n",
    "from keras.preprocessing import image\n"
   ]
  },
  {
   "cell_type": "code",
   "execution_count": null,
   "id": "12041711",
   "metadata": {},
   "outputs": [],
   "source": [
    "dataset=tf.keras.datasets.fashion_mnist\n",
    "(train,train_labels),(test,test_labels)=dataset.load_data()"
   ]
  },
  {
   "cell_type": "code",
   "execution_count": null,
   "id": "3d136fbb",
   "metadata": {},
   "outputs": [],
   "source": [
    "train.shape\n"
   ]
  },
  {
   "cell_type": "code",
   "execution_count": null,
   "id": "d0c3a845",
   "metadata": {},
   "outputs": [],
   "source": [
    "test.shape\n"
   ]
  },
  {
   "cell_type": "code",
   "execution_count": null,
   "id": "d1bb302d",
   "metadata": {},
   "outputs": [],
   "source": [
    "train=train.reshape(60000,28,28,1)\n",
    "train=train/255"
   ]
  },
  {
   "cell_type": "code",
   "execution_count": null,
   "id": "8a6dba5f",
   "metadata": {},
   "outputs": [],
   "source": [
    "test=test.reshape(10000,28,28,1)\n",
    "test=test/255"
   ]
  },
  {
   "cell_type": "code",
   "execution_count": null,
   "id": "7c5ab97d",
   "metadata": {},
   "outputs": [],
   "source": [
    "cnn=tf.keras.models.Sequential([\n",
    "    tf.keras.layers.Conv2D(64,(3,3),activation=\"relu\",padding=\"same\",input_shape=(28,28,1)),\n",
    "    tf.keras.layers.MaxPooling2D(2,2),\n",
    "     tf.keras.layers.Conv2D(32,(3,3),activation=\"relu\",padding=\"same\"),\n",
    "     tf.keras.layers.MaxPooling2D(2,2),\n",
    "     tf.keras.layers.Flatten(),\n",
    "    tf.keras.layers.Dense(128,activation=\"relu\"),\n",
    "    tf.keras.layers.Dense(64,activation=\"relu\"),\n",
    "    tf.keras.layers.Dense(10,activation=\"softmax\")\n",
    "])\n",
    "\n",
    "cnn.summary()"
   ]
  },
  {
   "cell_type": "code",
   "execution_count": null,
   "id": "edaa4bbb",
   "metadata": {},
   "outputs": [],
   "source": [
    "cnn.compile(optimizer=\"adam\",loss=\"sparse_categorical_crossentropy\",metrics=[\"accuracy\"])\n"
   ]
  },
  {
   "cell_type": "code",
   "execution_count": null,
   "id": "494ad0c9",
   "metadata": {},
   "outputs": [],
   "source": [
    "model=cnn.fit(train,train_labels,epochs=10)\n"
   ]
  },
  {
   "cell_type": "code",
   "execution_count": null,
   "id": "5cd92cff",
   "metadata": {},
   "outputs": [],
   "source": [
    "train_labels\n"
   ]
  },
  {
   "cell_type": "code",
   "execution_count": null,
   "id": "5bfc267b",
   "metadata": {},
   "outputs": [],
   "source": [
    "plt.plot(range(1, 11), model.history['accuracy'], marker='o')\n",
    "plt.xlabel('Epochs')\n",
    "plt.ylabel('Accuracy')\n",
    "plt.title('Training Accuracy over Epochs')\n"
   ]
  },
  {
   "cell_type": "code",
   "execution_count": null,
   "id": "097dc0d5",
   "metadata": {},
   "outputs": [],
   "source": [
    "\n",
    "testing_accuracy = []\n",
    "for epoch in range(10):\n",
    "    testing_results = cnn.evaluate(test, test_labels, verbose=0)\n",
    "    testing_accuracy.append(testing_results[1])"
   ]
  },
  {
   "cell_type": "code",
   "execution_count": null,
   "id": "4dd1334f",
   "metadata": {},
   "outputs": [],
   "source": [
    "plt.plot(range(1, 11), testing_accuracy, marker='o', label='Testing Accuracy')\n"
   ]
  },
  {
   "cell_type": "code",
   "execution_count": null,
   "id": "034fdf63",
   "metadata": {},
   "outputs": [],
   "source": [
    "uploaded_file = files.upload()\n",
    "uploaded_image_path = list(uploaded_file.keys())[0]\n"
   ]
  }
 ],
 "metadata": {
  "language_info": {
   "name": "python"
  }
 },
 "nbformat": 4,
 "nbformat_minor": 5
}
